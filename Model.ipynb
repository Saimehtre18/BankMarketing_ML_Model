{
 "cells": [
  {
   "cell_type": "code",
   "execution_count": 18,
   "metadata": {},
   "outputs": [],
   "source": [
    "# import Data Manipulation Libraries\n",
    "import numpy as np\n",
    "import pandas as pd\n",
    "# Import Data Visualization Libraries\n",
    "import matplotlib.pyplot as plt\n",
    "import seaborn as sns \n",
    "# Import Filter Warnings Libraries\n",
    "import warnings\n",
    "warnings.filterwarnings('ignore')\n",
    "\n",
    "#Import Logging Libraries\n",
    "import logging\n",
    "logging.basicConfig(level=logging.INFO,\n",
    "                    filemode='w',\n",
    "                    filename='model.log',\n",
    "                    format='%(asctime)s - %(levelname)s - %(message)s',force=True)\n",
    "\n"
   ]
  },
  {
   "cell_type": "code",
   "execution_count": 19,
   "metadata": {},
   "outputs": [
    {
     "name": "stdout",
     "output_type": "stream",
     "text": [
      "       age          job  marital  education default  balance housing loan  \\\n",
      "10635   48      unknown  married    unknown      no     3940      no   no   \n",
      "41969   76      retired  married  secondary      no     4112      no   no   \n",
      "32291   30   unemployed   single  secondary      no        0     yes   no   \n",
      "43064   48       admin.  married  secondary      no      660      no   no   \n",
      "18435   28  blue-collar   single  secondary      no        0      no  yes   \n",
      "...    ...          ...      ...        ...     ...      ...     ...  ...   \n",
      "35201   30   technician  married  secondary      no     3875     yes   no   \n",
      "4668    31   unemployed  married    primary      no      -63     yes   no   \n",
      "12696   53  blue-collar  married    primary      no      465     yes   no   \n",
      "40065   29      student   single  secondary      no     1779      no   no   \n",
      "27214   37   management  married   tertiary      no       11      no   no   \n",
      "\n",
      "         contact  day month  duration  campaign  pdays  previous poutcome    y  \n",
      "10635    unknown   16   jun       298         6     -1         0  unknown   no  \n",
      "41969  telephone   23   oct       282         2     -1         0  unknown  yes  \n",
      "32291   cellular   16   apr       137         1     -1         0  unknown   no  \n",
      "43064   cellular   18   feb       318         1    561         2  success  yes  \n",
      "18435   cellular   31   jul        11        21     -1         0  unknown   no  \n",
      "...          ...  ...   ...       ...       ...    ...       ...      ...  ...  \n",
      "35201   cellular    7   may       131         1    338         2    other   no  \n",
      "4668     unknown   20   may       657         1     -1         0  unknown   no  \n",
      "12696   cellular    7   jul       111         2     -1         0  unknown   no  \n",
      "40065   cellular    4   jun       400         1     -1         0  unknown  yes  \n",
      "27214   cellular   21   nov       326         1     -1         0  unknown   no  \n",
      "\n",
      "[45211 rows x 17 columns]\n"
     ]
    }
   ],
   "source": [
    "#Data Import Using Pandas Function\n",
    "\n",
    "url= 'https://raw.githubusercontent.com/Saimehtre18/BankMarketing_ML_Model/refs/heads/main/BankTelemarketing.csv'\n",
    "\n",
    "df =pd.read_csv(url,sep =';')\n",
    "\n",
    "df.sample(frac = 1) #Shuffle dataset\n",
    "\n",
    "print(df.sample(frac = 1))"
   ]
  },
  {
   "cell_type": "code",
   "execution_count": 20,
   "metadata": {},
   "outputs": [],
   "source": [
    "logging.info('Dataset Uploaded Successfully ............')"
   ]
  },
  {
   "cell_type": "code",
   "execution_count": 17,
   "metadata": {},
   "outputs": [
    {
     "name": "stdout",
     "output_type": "stream",
     "text": [
      "<class 'pandas.core.frame.DataFrame'>\n",
      "RangeIndex: 45211 entries, 0 to 45210\n",
      "Data columns (total 17 columns):\n",
      " #   Column     Non-Null Count  Dtype \n",
      "---  ------     --------------  ----- \n",
      " 0   age        45211 non-null  int64 \n",
      " 1   job        45211 non-null  object\n",
      " 2   marital    45211 non-null  object\n",
      " 3   education  45211 non-null  object\n",
      " 4   default    45211 non-null  object\n",
      " 5   balance    45211 non-null  int64 \n",
      " 6   housing    45211 non-null  object\n",
      " 7   loan       45211 non-null  object\n",
      " 8   contact    45211 non-null  object\n",
      " 9   day        45211 non-null  int64 \n",
      " 10  month      45211 non-null  object\n",
      " 11  duration   45211 non-null  int64 \n",
      " 12  campaign   45211 non-null  int64 \n",
      " 13  pdays      45211 non-null  int64 \n",
      " 14  previous   45211 non-null  int64 \n",
      " 15  poutcome   45211 non-null  object\n",
      " 16  y          45211 non-null  object\n",
      "dtypes: int64(7), object(10)\n",
      "memory usage: 5.9+ MB\n"
     ]
    }
   ],
   "source": [
    "# Checking Data Shape and Data Information\n",
    "df.info()"
   ]
  },
  {
   "cell_type": "code",
   "execution_count": null,
   "metadata": {},
   "outputs": [],
   "source": []
  }
 ],
 "metadata": {
  "kernelspec": {
   "display_name": "base",
   "language": "python",
   "name": "python3"
  },
  "language_info": {
   "codemirror_mode": {
    "name": "ipython",
    "version": 3
   },
   "file_extension": ".py",
   "mimetype": "text/x-python",
   "name": "python",
   "nbconvert_exporter": "python",
   "pygments_lexer": "ipython3",
   "version": "3.12.7"
  }
 },
 "nbformat": 4,
 "nbformat_minor": 2
}
